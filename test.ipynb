{
 "cells": [
  {
   "cell_type": "code",
   "execution_count": 1,
   "metadata": {},
   "outputs": [],
   "source": [
    "import numpy as np\n",
    "import matplotlib.pyplot as plt"
   ]
  },
  {
   "cell_type": "code",
   "execution_count": 2,
   "metadata": {},
   "outputs": [],
   "source": [
    "def normal(mu, sigma, n):\n",
    "    return np.random.normal(mu,sigma,n).reshape([-1,1])\n",
    "\n",
    "def getp(vec, centers, k):\n",
    "    _a = (1+np.linalg.norm(vec - centers[k])**2) ** -1\n",
    "    _b = 0\n",
    "    for _k in range(len(centers)):\n",
    "        _b += (1+np.linalg.norm(vec - centers[_k])**2) ** -1\n",
    "\n",
    "    return  _a / _b\n",
    "\n",
    "def getap(qmat, f_k, j, k):\n",
    "    _a = qmat[j,k]**2 / f_k[k]\n",
    "    _b = 0\n",
    "    for idx,_f in enumerate(f_k):\n",
    "        _b += qmat[j,idx]**2/f_k[idx]\n",
    "    \n",
    "    return _a/_b\n",
    "\n",
    "def getLoss(pmat, qmat, j):\n",
    "    l = 0\n",
    "    for k in range(pmat.shape[1]):\n",
    "        l += pmat[j,k] * np.log(pmat[j,k]/qmat[j,k])\n",
    "\n",
    "    return l"
   ]
  },
  {
   "cell_type": "code",
   "execution_count": 3,
   "metadata": {},
   "outputs": [],
   "source": [
    "samples = np.concatenate((normal(0.0,0.5,100),normal(5.0,0.5,100)))\n",
    "centers = np.array([[0],[5]])"
   ]
  },
  {
   "cell_type": "code",
   "execution_count": 5,
   "metadata": {},
   "outputs": [
    {
     "data": {
      "text/plain": [
       "array([[-1.50652972e+00],\n",
       "       [-1.48085635e+00],\n",
       "       [-1.44088422e+00],\n",
       "       [-1.34761548e+00],\n",
       "       [-1.08367030e+00],\n",
       "       [-8.58154765e-01],\n",
       "       [-8.18212410e-01],\n",
       "       [-7.88460265e-01],\n",
       "       [-7.61032997e-01],\n",
       "       [-6.80762551e-01],\n",
       "       [-6.76322612e-01],\n",
       "       [-6.53526797e-01],\n",
       "       [-5.43856874e-01],\n",
       "       [-4.83343512e-01],\n",
       "       [-4.77985999e-01],\n",
       "       [-4.62476866e-01],\n",
       "       [-4.54924368e-01],\n",
       "       [-4.50082283e-01],\n",
       "       [-4.48770662e-01],\n",
       "       [-4.44596935e-01],\n",
       "       [-4.20122962e-01],\n",
       "       [-4.07569354e-01],\n",
       "       [-3.97306279e-01],\n",
       "       [-3.77751248e-01],\n",
       "       [-3.76649732e-01],\n",
       "       [-3.71055295e-01],\n",
       "       [-3.50955575e-01],\n",
       "       [-3.48140596e-01],\n",
       "       [-3.39147118e-01],\n",
       "       [-3.36714717e-01],\n",
       "       [-3.32295755e-01],\n",
       "       [-3.31655472e-01],\n",
       "       [-3.22578731e-01],\n",
       "       [-3.18064345e-01],\n",
       "       [-2.29158459e-01],\n",
       "       [-2.25680451e-01],\n",
       "       [-1.98926585e-01],\n",
       "       [-1.42701795e-01],\n",
       "       [-1.41282497e-01],\n",
       "       [-1.28024168e-01],\n",
       "       [-1.19334182e-01],\n",
       "       [-1.18173808e-01],\n",
       "       [-8.18577955e-02],\n",
       "       [-7.99345409e-02],\n",
       "       [-6.32316568e-02],\n",
       "       [-2.82195570e-02],\n",
       "       [-8.72445692e-03],\n",
       "       [ 7.18104060e-04],\n",
       "       [ 1.16861650e-02],\n",
       "       [ 1.58487514e-02],\n",
       "       [ 6.97545062e-02],\n",
       "       [ 8.78233798e-02],\n",
       "       [ 9.30510710e-02],\n",
       "       [ 1.29677089e-01],\n",
       "       [ 1.32107258e-01],\n",
       "       [ 1.34066476e-01],\n",
       "       [ 1.47971225e-01],\n",
       "       [ 1.58552820e-01],\n",
       "       [ 1.65306137e-01],\n",
       "       [ 1.69150761e-01],\n",
       "       [ 1.89170204e-01],\n",
       "       [ 2.30357068e-01],\n",
       "       [ 2.46320946e-01],\n",
       "       [ 2.59842221e-01],\n",
       "       [ 2.67739444e-01],\n",
       "       [ 2.79766259e-01],\n",
       "       [ 2.91271149e-01],\n",
       "       [ 3.17492160e-01],\n",
       "       [ 3.30807049e-01],\n",
       "       [ 3.37257852e-01],\n",
       "       [ 3.40309237e-01],\n",
       "       [ 3.43194097e-01],\n",
       "       [ 3.60776805e-01],\n",
       "       [ 3.95905248e-01],\n",
       "       [ 4.01533659e-01],\n",
       "       [ 4.09078044e-01],\n",
       "       [ 4.37978989e-01],\n",
       "       [ 4.39357598e-01],\n",
       "       [ 4.51474345e-01],\n",
       "       [ 4.75401722e-01],\n",
       "       [ 4.78399176e-01],\n",
       "       [ 4.97277105e-01],\n",
       "       [ 5.05381199e-01],\n",
       "       [ 5.13981264e-01],\n",
       "       [ 5.15740412e-01],\n",
       "       [ 5.17808968e-01],\n",
       "       [ 5.61435452e-01],\n",
       "       [ 5.64803895e-01],\n",
       "       [ 5.72111240e-01],\n",
       "       [ 6.03425396e-01],\n",
       "       [ 6.19670622e-01],\n",
       "       [ 6.28862957e-01],\n",
       "       [ 6.91006400e-01],\n",
       "       [ 6.95421009e-01],\n",
       "       [ 7.39526000e-01],\n",
       "       [ 7.75588914e-01],\n",
       "       [ 8.07789676e-01],\n",
       "       [ 1.00128954e+00],\n",
       "       [ 1.02906213e+00],\n",
       "       [ 1.37885656e+00],\n",
       "       [ 3.63106285e+00],\n",
       "       [ 3.67421486e+00],\n",
       "       [ 3.72195808e+00],\n",
       "       [ 3.83657099e+00],\n",
       "       [ 3.84976840e+00],\n",
       "       [ 3.86225439e+00],\n",
       "       [ 3.88441057e+00],\n",
       "       [ 3.96443845e+00],\n",
       "       [ 4.14420248e+00],\n",
       "       [ 4.31841608e+00],\n",
       "       [ 4.43199036e+00],\n",
       "       [ 4.44113600e+00],\n",
       "       [ 4.44298421e+00],\n",
       "       [ 4.44311314e+00],\n",
       "       [ 4.44847778e+00],\n",
       "       [ 4.45766414e+00],\n",
       "       [ 4.50984056e+00],\n",
       "       [ 4.51480503e+00],\n",
       "       [ 4.51980838e+00],\n",
       "       [ 4.52772944e+00],\n",
       "       [ 4.52954651e+00],\n",
       "       [ 4.53978576e+00],\n",
       "       [ 4.60074261e+00],\n",
       "       [ 4.60580343e+00],\n",
       "       [ 4.61366157e+00],\n",
       "       [ 4.61976590e+00],\n",
       "       [ 4.62124687e+00],\n",
       "       [ 4.65141497e+00],\n",
       "       [ 4.67400458e+00],\n",
       "       [ 4.67917293e+00],\n",
       "       [ 4.72851593e+00],\n",
       "       [ 4.73259814e+00],\n",
       "       [ 4.79060551e+00],\n",
       "       [ 4.80641977e+00],\n",
       "       [ 4.83274760e+00],\n",
       "       [ 4.85644966e+00],\n",
       "       [ 4.89031703e+00],\n",
       "       [ 4.91189530e+00],\n",
       "       [ 4.92647586e+00],\n",
       "       [ 4.93013005e+00],\n",
       "       [ 4.93327951e+00],\n",
       "       [ 4.94071334e+00],\n",
       "       [ 4.95425584e+00],\n",
       "       [ 4.95525059e+00],\n",
       "       [ 4.97161496e+00],\n",
       "       [ 4.97634780e+00],\n",
       "       [ 4.98298188e+00],\n",
       "       [ 4.98701965e+00],\n",
       "       [ 4.99120823e+00],\n",
       "       [ 4.99488958e+00],\n",
       "       [ 4.99693083e+00],\n",
       "       [ 5.00942226e+00],\n",
       "       [ 5.01383882e+00],\n",
       "       [ 5.02581927e+00],\n",
       "       [ 5.05196340e+00],\n",
       "       [ 5.07242900e+00],\n",
       "       [ 5.07974711e+00],\n",
       "       [ 5.08540871e+00],\n",
       "       [ 5.08734536e+00],\n",
       "       [ 5.10378986e+00],\n",
       "       [ 5.10881520e+00],\n",
       "       [ 5.15480940e+00],\n",
       "       [ 5.15813439e+00],\n",
       "       [ 5.16195681e+00],\n",
       "       [ 5.16297082e+00],\n",
       "       [ 5.18190151e+00],\n",
       "       [ 5.19275610e+00],\n",
       "       [ 5.19279459e+00],\n",
       "       [ 5.19582584e+00],\n",
       "       [ 5.20989883e+00],\n",
       "       [ 5.24629749e+00],\n",
       "       [ 5.28159193e+00],\n",
       "       [ 5.28913494e+00],\n",
       "       [ 5.29118658e+00],\n",
       "       [ 5.30510609e+00],\n",
       "       [ 5.31648778e+00],\n",
       "       [ 5.36257491e+00],\n",
       "       [ 5.43103422e+00],\n",
       "       [ 5.44205370e+00],\n",
       "       [ 5.44261715e+00],\n",
       "       [ 5.45368075e+00],\n",
       "       [ 5.46044416e+00],\n",
       "       [ 5.46904999e+00],\n",
       "       [ 5.48304362e+00],\n",
       "       [ 5.53911587e+00],\n",
       "       [ 5.58088110e+00],\n",
       "       [ 5.58351293e+00],\n",
       "       [ 5.64974276e+00],\n",
       "       [ 5.66504808e+00],\n",
       "       [ 5.66855115e+00],\n",
       "       [ 5.67269411e+00],\n",
       "       [ 5.68470559e+00],\n",
       "       [ 5.68813735e+00],\n",
       "       [ 5.74562735e+00],\n",
       "       [ 5.76521306e+00],\n",
       "       [ 5.77461875e+00],\n",
       "       [ 5.82885765e+00],\n",
       "       [ 5.86668446e+00],\n",
       "       [ 5.91627612e+00],\n",
       "       [ 6.58659760e+00]])"
      ]
     },
     "execution_count": 5,
     "metadata": {},
     "output_type": "execute_result"
    }
   ],
   "source": [
    "samples.sort(axis=0)\n",
    "samples"
   ]
  },
  {
   "cell_type": "code",
   "execution_count": 129,
   "metadata": {},
   "outputs": [],
   "source": [
    "qmat = np.zeros([len(samples),len(centers)])\n",
    "for j in range(qmat.shape[0]):\n",
    "    for k in range(qmat.shape[1]):\n",
    "        qmat[j,k] = getp(samples[j], centers, k)\n",
    "\n",
    "f_k = qmat.sum(axis=0)\n",
    "\n",
    "pmat = np.zeros([len(samples),len(centers)])\n",
    "for j in range(pmat.shape[0]):\n",
    "    for k in range(pmat.shape[1]):\n",
    "        pmat[j,k] = getap(qmat, f_k, j, k) \n",
    "\n",
    "loss = np.zeros([len(samples)])\n",
    "for j in range(loss.shape[0]):\n",
    "    loss[j] = getLoss(pmat,qmat,j)\n",
    "\n",
    "totalLoss = loss.sum()/len(samples)"
   ]
  },
  {
   "cell_type": "code",
   "execution_count": 130,
   "metadata": {},
   "outputs": [
    {
     "data": {
      "text/plain": [
       "0.038452576568362366"
      ]
     },
     "execution_count": 130,
     "metadata": {},
     "output_type": "execute_result"
    },
    {
     "data": {
      "image/png": "[encoded data removed]",
      "text/plain": [
       "<Figure size 432x288 with 1 Axes>"
      ]
     },
     "metadata": {
      "needs_background": "light"
     },
     "output_type": "display_data"
    }
   ],
   "source": [
    "plt.scatter(samples.reshape([-1]), qmat[:,0])\n",
    "plt.scatter(samples.reshape([-1]), pmat[:,0])\n",
    "plt.scatter(samples.reshape([-1]), loss)\n",
    "totalLoss"
   ]
  },
  {
   "cell_type": "code",
   "execution_count": 113,
   "metadata": {},
   "outputs": [],
   "source": [
    "tLoss = []\n",
    "for c2 in np.arange(-3,17,0.1):\n",
    "    centers = np.array([[0],[c2]])\n",
    "    qmat = np.zeros([len(samples),len(centers)])\n",
    "    for j in range(qmat.shape[0]):\n",
    "        for k in range(qmat.shape[1]):\n",
    "            qmat[j,k] = getp(samples[j], centers, k)\n",
    "\n",
    "    f_k = qmat.sum(axis=0)\n",
    "\n",
    "    pmat = np.zeros([len(samples),len(centers)])\n",
    "    for j in range(pmat.shape[0]):\n",
    "        for k in range(pmat.shape[1]):\n",
    "            pmat[j,k] = getap(qmat, f_k, j, k) \n",
    "\n",
    "    loss = np.zeros([len(samples)])\n",
    "    for j in range(loss.shape[0]):\n",
    "        loss[j] = getLoss(pmat,qmat,j)\n",
    "\n",
    "    totalLoss = loss.sum()/len(samples)\n",
    "    tLoss.append(totalLoss)"
   ]
  },
  {
   "cell_type": "code",
   "execution_count": 114,
   "metadata": {},
   "outputs": [
    {
     "data": {
      "text/plain": [
       "<matplotlib.collections.PathCollection at 0x1ab2b6bf190>"
      ]
     },
     "execution_count": 114,
     "metadata": {},
     "output_type": "execute_result"
    },
    {
     "data": {
      "image/png": "[encoded data removed]",
      "text/plain": [
       "<Figure size 432x288 with 1 Axes>"
      ]
     },
     "metadata": {
      "needs_background": "light"
     },
     "output_type": "display_data"
    }
   ],
   "source": [
    "plt.scatter(np.arange(-3,17,0.1),tLoss)"
   ]
  },
  {
   "cell_type": "code",
   "execution_count": 22,
   "metadata": {},
   "outputs": [
    {
     "data": {
      "text/plain": [
       "(array([ 1.,  5., 11., 16., 17., 21., 17.,  6.,  3.,  4.,  1.,  2.,  4.,\n",
       "        13., 18., 21., 20.,  6., 10.,  4.]),\n",
       " array([-2.30964992e+00, -1.84759188e+00, -1.38553385e+00, -9.23475816e-01,\n",
       "        -4.61417783e-01,  6.40250002e-04,  4.62698283e-01,  9.24756316e-01,\n",
       "         1.38681435e+00,  1.84887238e+00,  2.31093042e+00,  2.77298845e+00,\n",
       "         3.23504648e+00,  3.69710451e+00,  4.15916255e+00,  4.62122058e+00,\n",
       "         5.08327861e+00,  5.54533665e+00,  6.00739468e+00,  6.46945271e+00,\n",
       "         6.93151075e+00]),\n",
       " <BarContainer object of 20 artists>)"
      ]
     },
     "execution_count": 22,
     "metadata": {},
     "output_type": "execute_result"
    },
    {
     "data": {
      "image/png": "[encoded data removed]",
      "text/plain": [
       "<Figure size 432x288 with 1 Axes>"
      ]
     },
     "metadata": {
      "needs_background": "light"
     },
     "output_type": "display_data"
    }
   ],
   "source": [
    "plt.hist(samples.reshape([-1]), bins=20)"
   ]
  },
  {
   "cell_type": "code",
   "execution_count": null,
   "metadata": {},
   "outputs": [],
   "source": [
    "getp(vec, centers, 0)"
   ]
  }
 ],
 "metadata": {
  "interpreter": {
   "hash": "73e03da126b73bfff3642ec5261d56fa25c444ea595de51041687efaa60dda41"
  },
  "kernelspec": {
   "display_name": "Python 3.8.5 64-bit ('base': conda)",
   "name": "python3"
  },
  "language_info": {
   "codemirror_mode": {
    "name": "ipython",
    "version": 3
   },
   "file_extension": ".py",
   "mimetype": "text/x-python",
   "name": "python",
   "nbconvert_exporter": "python",
   "pygments_lexer": "ipython3",
   "version": "3.8.5"
  },
  "orig_nbformat": 4
 },
 "nbformat": 4,
 "nbformat_minor": 2
}
