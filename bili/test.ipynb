{
 "cells": [
  {
   "cell_type": "code",
   "execution_count": 1,
   "metadata": {},
   "outputs": [
    {
     "name": "stderr",
     "output_type": "stream",
     "text": [
      "<ipython-input-1-599330e613f5>:14: DeprecationWarning: executable_path has been deprecated, please pass in a Service object\n",
      "  driver = Chrome('D:/zf-download/chromedriver',options=options)\n"
     ]
    }
   ],
   "source": [
    "#Simple assignment\n",
    "from selenium.webdriver import Chrome\n",
    "from selenium.webdriver.chrome.options import Options\n",
    "import re\n",
    "import json\n",
    "import time\n",
    "\n",
    "bvre = r\"https:\\/\\/www\\.bilibili\\.com\\/video\\/(?P<bv>BV\\w+)\"\n",
    "\n",
    "\n",
    "options = Options()\n",
    "options.page_load_strategy = 'eager'\n",
    "\n",
    "driver = Chrome('D:/zf-download/chromedriver',options=options)\n",
    "\n",
    "\n"
   ]
  },
  {
   "cell_type": "code",
   "execution_count": 23,
   "metadata": {},
   "outputs": [],
   "source": [
    "#sub_areas = ['digital', 'application', 'computer_tech', 'industry', 'diy']\n",
    "\n",
    "def getURL(area:str='tech', sub_area:str='', page=1, period=[9,11]):\n",
    "    if len(sub_area):\n",
    "        return f'https://www.bilibili.com/v/{area}/{sub_area}/#/all/click/0/{page}/2021-{period[0]:2d}-01,2021-{period[1]:2d}-30'.replace(' ','0')\n",
    "    else:\n",
    "        return f'https://www.bilibili.com/v/{area}/'\n",
    "\n",
    "def getBV(url:str):\n",
    "    return re.match(bvre,url).group('bv')\n",
    "def get_sub_areas(hrefs):\n",
    "    return [i.get_attribute('href').split('/')[-2] for i in hrefs]"
   ]
  },
  {
   "cell_type": "code",
   "execution_count": 24,
   "metadata": {},
   "outputs": [
    {
     "data": {
      "text/plain": [
       "'https://www.bilibili.com/v/information/hotspot/#/all/click/0/10/2021-09-01,2021-11-30'"
      ]
     },
     "execution_count": 24,
     "metadata": {},
     "output_type": "execute_result"
    }
   ],
   "source": [
    "getURL('information','hotspot','10')"
   ]
  },
  {
   "cell_type": "code",
   "execution_count": 19,
   "metadata": {},
   "outputs": [],
   "source": [
    "driver.get(getURL('information','hotspot','10'))"
   ]
  },
  {
   "cell_type": "code",
   "execution_count": 20,
   "metadata": {},
   "outputs": [
    {
     "data": {
      "text/plain": [
       "[]"
      ]
     },
     "execution_count": 20,
     "metadata": {},
     "output_type": "execute_result"
    }
   ],
   "source": [
    "driver.find_elements(by='css selector',value='.empty')"
   ]
  },
  {
   "cell_type": "code",
   "execution_count": 13,
   "metadata": {},
   "outputs": [],
   "source": [
    "areas = ['douga','music','dance','game','knowledge','tech','sports','car','life','food','animal','fashion','information','ent']"
   ]
  },
  {
   "cell_type": "code",
   "execution_count": 14,
   "metadata": {},
   "outputs": [
    {
     "name": "stdout",
     "output_type": "stream",
     "text": [
      "douga: mad, mmd, voice, garage_kit, tokusatsu, other\n",
      "music: original, cover, vocaloid, electronic, perform, mv, live, other, audio, v\n",
      "dance: otaku, hiphop, star, china, three_d, demo\n",
      "game: stand_alone, esports, mobile, online, board, gmv, music, mugen, match\n",
      "knowledge: science, social_science, humanity_history, business, campus, career, design, skill\n",
      "tech: digital, application, computer_tech, industry, diy\n",
      "sports: basketballfootball, aerobics, athletic, culture, comprehensive\n",
      "car: life, culture, geek, motorcycle, smart, strategy\n",
      "life: funny, home, handmake, painting, daily\n",
      "food: make, detective, measurement, rural, record\n",
      "animal: cat, dog, panda, wild_animal, reptiles, animal_composite\n",
      "fashion: makeup, clothing, trend\n",
      "information: hotspot, global, social, multiple\n",
      "ent: variety, talker, fans, celebrity\n"
     ]
    }
   ],
   "source": [
    "for area in areas:\n",
    "    driver.get(getURL(area=area))\n",
    "    hrefs = []\n",
    "    while not len(hrefs):\n",
    "        hrefs = driver.find_elements(by='css selector',value='#subnav a')[1:]\n",
    "    sub_areas = get_sub_areas(hrefs)\n",
    "    print(f'{area}: {\", \".join(sub_areas)}')"
   ]
  },
  {
   "cell_type": "code",
   "execution_count": 8,
   "metadata": {},
   "outputs": [
    {
     "name": "stdout",
     "output_type": "stream",
     "text": [
      "['mad', 'mmd', 'voice', 'garage_kit', 'tokusatsu', 'other']\n"
     ]
    }
   ],
   "source": [
    "hrefs = driver.find_elements(by='css selector',value='#subnav a')[1:]\n"
   ]
  },
  {
   "cell_type": "code",
   "execution_count": 58,
   "metadata": {},
   "outputs": [
    {
     "data": {
      "text/plain": [
       "0.9549055799742955"
      ]
     },
     "execution_count": 58,
     "metadata": {},
     "output_type": "execute_result"
    }
   ],
   "source": [
    "import random\n",
    "random.random()"
   ]
  },
  {
   "cell_type": "code",
   "execution_count": 60,
   "metadata": {},
   "outputs": [],
   "source": [
    "for sub_area in sub_areas:\n",
    "    with open(f'data/{sub_area}.txt','a', encoding='utf-8') as dataFile:\n",
    "        for page in range(500):\n",
    "            driver.get(getURL(page=page+1, sub_area=sub_area))\n",
    "            hrefs = []\n",
    "            trial = 0\n",
    "            while(len(hrefs)==0):\n",
    "                time.sleep(1+random.random()*2)\n",
    "                hrefs = driver.find_elements(by='css selector',value='.vd-list-cnt .title')\n",
    "                trial += 1\n",
    "                if trial>60:\n",
    "                    driver.get(getURL(page=page+1, sub_area=sub_area))\n",
    "                    trial = 0\n",
    "\n",
    "            for href in hrefs:\n",
    "                print(getBV(href.get_attribute('href')), href.text,file=dataFile)"
   ]
  },
  {
   "cell_type": "code",
   "execution_count": 39,
   "metadata": {},
   "outputs": [],
   "source": [
    "driver.get(getURL(page=2, sub_area='industry'))"
   ]
  },
  {
   "cell_type": "code",
   "execution_count": 40,
   "metadata": {},
   "outputs": [],
   "source": [
    "hrefs = driver.find_elements(by='css selector',value='.vd-list-cnt .title')"
   ]
  },
  {
   "cell_type": "code",
   "execution_count": 44,
   "metadata": {},
   "outputs": [
    {
     "name": "stdout",
     "output_type": "stream",
     "text": [
      "BV1xQ4y1S77K 老板豁出几十万的设备，含泪拍下常见CNC撞刀事故，供员工警醒\n",
      "BV1FL4y1q7b5 钜研SLD8是什么材料-SLD8是什么材质\n",
      "BV1JF411a7tk 235挖掘机液压剪，双杠废料剪，实拍～\n",
      "BV1mb4y1b7BG 钜研SLD8对应国内什么材料-SLD8在国内叫什么\n",
      "BV1ov411T7xz 离析、夹泥和缩颈可以从低应变检测波形上区分吗？\n",
      "BV1DR4y177S5 【CRpov】G1246开车方向右侧完整pov\n",
      "BV1wv411g7Pa 机械设计制造，原理动图展示\n",
      "BV1z34y1o7RB 盘点人类史上出现的直升机大小和速度比较\n",
      "BV1yv411T7Sz 老毛病有犯了，见人就想教电焊，安装水盆的被我教成电焊工了\n",
      "BV1B3411k749 吉拿5LW引擎启动声浪\n",
      "BV1XQ4y1S7D3 HG-HSYXF-4727-US\n",
      "BV1yP4y1L7jR 3M进博会新品抢先看！Versaflo™ TR-800 动力送风过滤式呼吸器，为暴露于易燃易爆作业环境下的从业人员提供专业的有害气体、粉尘的防护。\n",
      "BV1rU4y1u73T 一个视频看懂电池翻转机构的结构设计\n",
      "BV1k34y1o7cr 大亚钢丸钢砂机器人自动包装\n",
      "BV1H3411k7mq 羽毛粉设备加工视频 诚明环保\n",
      "BV1J3411k77E 智能机器人梳头、洗漱，你想体验一下吗？\n",
      "BV1ZR4y177PF 干粉砂浆自动拆垛拆包机，全自动拆包机械手\n",
      "BV1o3411k7BJ 机器人铣削工艺展示\n",
      "BV1Bv411T7Ws 6.5KW视觉打标#激光刻字 #激光设备 #激光打标\n",
      "BV15P4y1j7N8 纪录片：探访欧洲最大的饼干工厂，每天生产500万片，仓库无存货\n"
     ]
    }
   ],
   "source": [
    "for href in hrefs:\n",
    "    print(getBV(href.get_attribute('href')), href.text)"
   ]
  },
  {
   "cell_type": "code",
   "execution_count": 12,
   "metadata": {},
   "outputs": [],
   "source": [
    "import re\n",
    "\n",
    "rmemre = r\"[\\U0001F600-\\U0001F64F|\\U0001F300-\\U0001F5FF|\\U0001F680-\\U0001F6FF|\\U0001F1E0-\\U0001F1FF]\"\n",
    "spacere = r\"([\\u4e00-\\u9fff])\\s\"\n",
    "def rmspace(matched):\n",
    "    return matched.group(1)\n",
    "\n",
    "sub_areas = ['game','knowledge','tech','sports','car','food','animal','fashion','information','ent']\n",
    "data_path = 'D:/zf-py/sccl/data/'\n",
    "DATALEN = 2700\n",
    "for idx,sub_area in enumerate(sub_areas):\n",
    "    with open(data_path+sub_area+'.txt',encoding='utf-8') as dataFile:\n",
    "        dataList = dataFile.read().split('\\n')[:DATALEN]\n",
    "        newdata = []\n",
    "        for line in dataList:\n",
    "            line = re.sub(rmemre,'',line,13,re.UNICODE)\n",
    "            line = re.sub(spacere,rmspace,line,13,re.UNICODE)\n",
    "            #print(line)\n",
    "            newdata.append(line)\n",
    "    with open(data_path+sub_area+'.txt','w',encoding='utf-8') as dataFile:\n",
    "        dataFile.write('\\n'.join(newdata))\n",
    "    \n",
    "\n"
   ]
  }
 ],
 "metadata": {
  "interpreter": {
   "hash": "b3ba2566441a7c06988d0923437866b63cedc61552a5af99d1f4fb67d367b25f"
  },
  "kernelspec": {
   "display_name": "Python 3.8.5 64-bit ('base': conda)",
   "name": "python3"
  },
  "language_info": {
   "codemirror_mode": {
    "name": "ipython",
    "version": 3
   },
   "file_extension": ".py",
   "mimetype": "text/x-python",
   "name": "python",
   "nbconvert_exporter": "python",
   "pygments_lexer": "ipython3",
   "version": "3.8.5"
  },
  "orig_nbformat": 4
 },
 "nbformat": 4,
 "nbformat_minor": 2
}
